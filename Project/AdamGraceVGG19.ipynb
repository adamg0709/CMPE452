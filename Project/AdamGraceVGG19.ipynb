{
 "cells": [
  {
   "cell_type": "code",
   "execution_count": 27,
   "metadata": {},
   "outputs": [],
   "source": [
    "# Import useful libraries for machine learning and visual communication\n",
    "import matplotlib.pyplot as plt # Used for plotting\n",
    "import seaborn as sns # Works with matplotlib.pylpot to create nicer plots\n",
    "sns.set() # Activates the seaborn library\n",
    "# Makes matplotlib work better in Jupyter Notebooks\n",
    "%matplotlib inline\n",
    "import numpy as np # Standard array/matrix library used by many other libraries\n",
    "import pandas as pd # Useful for reading data from a csv file\n",
    "import tensorflow as tf # Machine learning library\n",
    "from tensorflow import keras # Module for creating new models and using pre-trained models\n",
    "from tensorflow.keras.models import Sequential # Plain stack of layers model\n",
    "from tensorflow.keras.layers import  *\n",
    "from tensorflow.keras.optimizers import Adam # Optimizer for training\n",
    "from tensorflow.keras.applications import VGG19 # Pre-trained model\n",
    "from tensorflow.keras.utils import to_categorical # Used for creating numerical labels\n",
    "import os # Used for path referencing\n",
    "from tensorflow.keras.preprocessing.image import img_to_array # Used to manipluate image data\n",
    "from tensorflow.keras.preprocessing import image # Reads images\n",
    "from tqdm import tqdm # Shows progress bar during training\n",
    "import warnings\n",
    "warnings.filterwarnings(\"ignore\") # Suppress warnings\n",
    "from sklearn.metrics import classification_report, confusion_matrix # Used for analyzing the results"
   ]
  },
  {
   "cell_type": "code",
   "execution_count": 28,
   "metadata": {},
   "outputs": [
    {
     "name": "stdout",
     "output_type": "stream",
     "text": [
      "Pnemonia    4334\n",
      "Normal      1576\n",
      "Name: Label, dtype: int64\n",
      "--------------------------\n",
      "bacteria          2777\n",
      "unknown           1576\n",
      "Virus             1555\n",
      "Stress-Smoking       2\n",
      "Name: Label_1_Virus_category, dtype: int64\n"
     ]
    }
   ],
   "source": [
    "# Read in the information associated with the x-rays\n",
    "meta_data = pd.read_csv(r'C:\\Users\\adamg\\Documents\\452.Stuff\\Project\\input\\Chest_xray_Corona_Metadata.csv')\n",
    "# Replace all 'NaN' with 'unknown'\n",
    "meta_data.fillna('unknown', inplace=True)\n",
    "# Show the number of data points in each category\n",
    "print((meta_data['Label']).value_counts())\n",
    "print('--------------------------')\n",
    "print((meta_data['Label_1_Virus_category']).value_counts())"
   ]
  },
  {
   "cell_type": "code",
   "execution_count": 29,
   "metadata": {},
   "outputs": [
    {
     "name": "stdout",
     "output_type": "stream",
     "text": [
      "Training Data Numbers\n",
      "Bacteria    2535\n",
      "Virus       1407\n",
      "Normal      1342\n",
      "Name: Class, dtype: int64\n",
      "-------------------------\n",
      "Testing Data Numbers\n",
      "Bacteria    242\n",
      "Normal      234\n",
      "Virus       148\n",
      "Name: Class, dtype: int64\n"
     ]
    }
   ],
   "source": [
    "# Remove stress-smoking pnuemonia\n",
    "meta_data = meta_data[(meta_data['Label'] == 'Normal') | \n",
    "                              ((meta_data['Label'] == 'Pnemonia') &\n",
    "                               (meta_data['Label_1_Virus_category'] != 'Stress-Smoking'))]\n",
    "\n",
    "# Add a class and target feature\n",
    "meta_data['Class'] = meta_data.Label_1_Virus_category.apply(lambda x: 'Normal' if x=='unknown' else ('Virus' if x=='Virus' else 'Bacteria'))\n",
    "meta_data['Target'] = meta_data.Class.apply(lambda x: 0 if x=='Normal' else (1 if x=='Virus' else 2))\n",
    "\n",
    "# Seperate the training data and the testing data\n",
    "train_data = meta_data[meta_data['Dataset_type'] == 'TRAIN']\n",
    "test_data = meta_data[meta_data['Dataset_type'] == 'TEST']\n",
    "\n",
    "# Keep only the important features\n",
    "train_data = train_data[['X_ray_image_name', 'Class','Target']]\n",
    "test_data = test_data[['X_ray_image_name', 'Class','Target']]\n",
    "\n",
    "# Display the number of images from each class\n",
    "print('Training Data Numbers')\n",
    "print(train_data['Class'].value_counts())\n",
    "print('-------------------------')\n",
    "print('Testing Data Numbers')\n",
    "print(test_data['Class'].value_counts())"
   ]
  },
  {
   "cell_type": "code",
   "execution_count": 38,
   "metadata": {},
   "outputs": [
    {
     "data": {
      "text/plain": [
       "5286    None\n",
       "5287    None\n",
       "5288    None\n",
       "5289    None\n",
       "5290    None\n",
       "        ... \n",
       "5905    None\n",
       "5906    None\n",
       "5907    None\n",
       "5908    None\n",
       "5909    None\n",
       "Name: X_ray_image_name, Length: 624, dtype: object"
      ]
     },
     "execution_count": 38,
     "metadata": {},
     "output_type": "execute_result"
    }
   ],
   "source": [
    "def read_img(filename, size, path):\n",
    "    img = image.load_img(os.path.join(path, filename), target_size=size)\n",
    "    img = img_to_array(img) / 255\n",
    "    return img\n",
    "\n",
    "train_img_dir = r'C:\\Users\\adamg\\Documents\\452.Stuff\\Project\\input\\Coronahack-Chest-XRay-Dataset\\Coronahack-Chest-XRay-Dataset\\train'\n",
    "test_img_dir = r'C:\\Users\\adamg\\Documents\\452.Stuff\\Project\\input\\Coronahack-Chest-XRay-Dataset\\Coronahack-Chest-XRay-Dataset\\test'\n",
    "\n",
    "# Extract the training and testing images, then convert them to arrays\n",
    "train_arrays = [] \n",
    "train_data['X_ray_image_name'].apply(lambda x: train_arrays.append(read_img(x, (224,224), train_img_dir)))\n",
    "test_arrays = []\n",
    "test_data['X_ray_image_name'].apply(lambda x: test_arrays.append(read_img(x, (224,224), test_img_dir)))"
   ]
  },
  {
   "cell_type": "code",
   "execution_count": 40,
   "metadata": {},
   "outputs": [],
   "source": [
    "# Create seperate arrays for the targets\n",
    "y_train = np.int64(train_data['Target'].values)\n",
    "y_test = np.int64(test_data['Target'].values)"
   ]
  },
  {
   "cell_type": "code",
   "execution_count": 41,
   "metadata": {},
   "outputs": [],
   "source": [
    "# Convert to tensors\n",
    "train_tensors = tf.convert_to_tensor(np.array(train_arrays))\n",
    "y_train_tensor = tf.convert_to_tensor(to_categorical(y_train))\n",
    "test_tensors  = tf.convert_to_tensor(np.array(test_arrays))\n",
    "y_test_tensor = tf.convert_to_tensor(to_categorical(y_test))\n",
    "\n",
    "# Group tensors\n",
    "train_dataset = tf.data.Dataset.from_tensor_slices((train_tensors, y_train_tensor))\n",
    "test_dataset = tf.data.Dataset.from_tensor_slices((test_tensors, y_test_tensor))"
   ]
  },
  {
   "cell_type": "code",
   "execution_count": 42,
   "metadata": {},
   "outputs": [],
   "source": [
    "BATCH_SIZE = 16\n",
    "BUFFER = 1000\n",
    "\n",
    "# Shuffle and create batches\n",
    "train_batches = train_dataset.shuffle(BUFFER).batch(BATCH_SIZE)\n",
    "test_batches = test_dataset.batch(BATCH_SIZE)"
   ]
  },
  {
   "cell_type": "code",
   "execution_count": 43,
   "metadata": {
    "scrolled": true
   },
   "outputs": [],
   "source": [
    "INPUT_SHAPE = (224,224,3) \n",
    "\n",
    "# Get the pretrained model\n",
    "base_model = tf.keras.applications.VGG19(input_shape= INPUT_SHAPE,include_top=False,weights='imagenet')\n",
    "\n",
    "# Do not make changes to the base model\n",
    "base_model.trainable = False"
   ]
  },
  {
   "cell_type": "code",
   "execution_count": 51,
   "metadata": {},
   "outputs": [],
   "source": [
    "# Create the model\n",
    "model = Sequential()\n",
    "model.add(base_model)\n",
    "model.add(GlobalAveragePooling2D())\n",
    "model.add(Dense(128))\n",
    "model.add(Dropout(0.2))\n",
    "model.add(Dense(3, activation = 'softmax'))"
   ]
  },
  {
   "cell_type": "code",
   "execution_count": 52,
   "metadata": {},
   "outputs": [],
   "source": [
    "# Stop training if the model is not learning anymore\n",
    "callbacks = tf.keras.callbacks.EarlyStopping(monitor='val_loss', patience=2)\n",
    "\n",
    "# Compile the model\n",
    "model.compile(optimizer='adam',\n",
    "              loss = 'categorical_crossentropy',\n",
    "              metrics=['accuracy'])"
   ]
  },
  {
   "cell_type": "code",
   "execution_count": 54,
   "metadata": {},
   "outputs": [
    {
     "name": "stdout",
     "output_type": "stream",
     "text": [
      "Epoch 1/4\n",
      "331/331 [==============================] - 1453s 4s/step - loss: 0.6821 - accuracy: 0.6972 - val_loss: 1.4470 - val_accuracy: 0.4583\n",
      "Epoch 2/4\n",
      "331/331 [==============================] - 1417s 4s/step - loss: 0.6535 - accuracy: 0.7385 - val_loss: 1.2927 - val_accuracy: 0.5529\n",
      "Epoch 3/4\n",
      "331/331 [==============================] - 1439s 4s/step - loss: 0.5894 - accuracy: 0.7443 - val_loss: 1.4661 - val_accuracy: 0.5705\n",
      "Epoch 4/4\n",
      "331/331 [==============================] - 1420s 4s/step - loss: 0.5896 - accuracy: 0.7549 - val_loss: 1.4182 - val_accuracy: 0.5721\n"
     ]
    },
    {
     "data": {
      "text/plain": [
       "<tensorflow.python.keras.callbacks.History at 0x2381b10a108>"
      ]
     },
     "execution_count": 54,
     "metadata": {},
     "output_type": "execute_result"
    }
   ],
   "source": [
    "# Perform training\n",
    "model.fit(train_batches, epochs=5, validation_data=test_batches, callbacks=[callbacks])"
   ]
  },
  {
   "cell_type": "code",
   "execution_count": 55,
   "metadata": {},
   "outputs": [],
   "source": [
    "# Predict test data\n",
    "pred = model.predict_classes(np.array(test_arrays))"
   ]
  },
  {
   "cell_type": "code",
   "execution_count": 48,
   "metadata": {},
   "outputs": [
    {
     "name": "stdout",
     "output_type": "stream",
     "text": [
      "              precision    recall  f1-score   support\n",
      "\n",
      "           0       1.00      0.12      0.22       234\n",
      "           1       0.56      0.53      0.55       148\n",
      "           2       0.53      1.00      0.69       242\n",
      "\n",
      "    accuracy                           0.56       624\n",
      "   macro avg       0.70      0.55      0.49       624\n",
      "weighted avg       0.72      0.56      0.48       624\n",
      "\n"
     ]
    }
   ],
   "source": [
    "print(classification_report(test_data['Target'], pred.flatten()))"
   ]
  },
  {
   "cell_type": "code",
   "execution_count": 50,
   "metadata": {},
   "outputs": [
    {
     "data": {
      "image/png": "[encoded data removed]",
      "text/plain": [
       "<Figure size 720x720 with 2 Axes>"
      ]
     },
     "metadata": {
      "needs_background": "light"
     },
     "output_type": "display_data"
    }
   ],
   "source": [
    "# Create confusion matrix\n",
    "con_mat = confusion_matrix(test_data['Target'], pred.flatten())\n",
    "plt.figure(figsize = (10,10))\n",
    "plt.title('CONFUSION MATRIX')\n",
    "sns.heatmap(con_mat, cmap='coolwarm',\n",
    "            yticklabels=['Healthy', 'Virus', 'Bacteria'],\n",
    "            xticklabels=['Healthy', 'Virus', 'Bacteria'],\n",
    "            annot=True);"
   ]
  }
 ],
 "metadata": {
  "kernelspec": {
   "display_name": "Python 3",
   "language": "python",
   "name": "python3"
  },
  "language_info": {
   "codemirror_mode": {
    "name": "ipython",
    "version": 3
   },
   "file_extension": ".py",
   "mimetype": "text/x-python",
   "name": "python",
   "nbconvert_exporter": "python",
   "pygments_lexer": "ipython3",
   "version": "3.7.9"
  }
 },
 "nbformat": 4,
 "nbformat_minor": 4
}
